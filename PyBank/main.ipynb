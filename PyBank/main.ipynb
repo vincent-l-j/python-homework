{
 "cells": [
  {
   "cell_type": "markdown",
   "metadata": {},
   "source": [
    "In this activity, you are tasked with creating a Python script for analyzing the financial records of your company. You will be provided with a financial dataset in this file: [budget_data.csv](Resources/budget_data.csv). This dataset is composed of two columns, Date and Profit/Losses. (Thankfully, your company has rather lax standards for accounting, so the records are simple.)\n",
    "\n",
    "Your task is to create a Python script that analyzes the records to calculate each of the following:\n",
    "\n",
    "* The total number of months included in the dataset.\n",
    "\n",
    "* The net total amount of Profit/Losses over the entire period.\n",
    "\n",
    "* The average of the changes in Profit/Losses over the entire period.\n",
    "\n",
    "* The greatest increase in profits (date and amount) over the entire period.\n",
    "\n",
    "* The greatest decrease in losses (date and amount) over the entire period.\n",
    "\n",
    "Your resulting analysis should look similar to the following:\n",
    "\n",
    "  ```text\n",
    "  Financial Analysis\n",
    "  ----------------------------\n",
    "  Total Months: 86\n",
    "  Total: $38382578\n",
    "  Average  Change: $-2315.12\n",
    "  Greatest Increase in Profits: Feb-2012 ($1926159)\n",
    "  Greatest Decrease in Profits: Sep-2013 ($-2196167)\n",
    "  ```\n",
    "\n",
    "Your final script should print the analysis to the terminal and export a text file with the results.\n"
   ]
  },
  {
   "cell_type": "code",
   "execution_count": 1,
   "metadata": {},
   "outputs": [
    {
     "name": "stdout",
     "output_type": "stream",
     "text": [
      "    Financial Analysis\n",
      "    ----------------------------\n",
      "    Total Months: 86\n",
      "    Total P&L: $38382578.0\n",
      "    Average  Change: $446309.05\n",
      "    Greatest Increase in Profits: Feb-2012 ($1170593.0)\n",
      "    Greatest Decrease in Profits: Sep-2013 (-$1196225.0)\n",
      "\n"
     ]
    }
   ],
   "source": [
    "from pathlib import Path\n",
    "import csv\n",
    "\n",
    "\n",
    "total_months = 0\n",
    "total_pnl = 0\n",
    "average_pnl = 0\n",
    "max_profit_amount = 0\n",
    "max_profit_date = None\n",
    "min_profit_amount = 0\n",
    "min_profit_date = None\n",
    "\n",
    "\n",
    "file_path = 'Resources/budget_data.csv'\n",
    "with open(Path(file_path), 'r') as f:\n",
    "    csvreader = csv.reader(f, delimiter=',')\n",
    "    header = next(csvreader)\n",
    "    for r in csvreader:\n",
    "        date = r[0]\n",
    "        monthly_pnl = float(r[1])\n",
    "        total_months += 1\n",
    "        total_pnl += monthly_pnl\n",
    "        if monthly_pnl > max_profit_amount:\n",
    "            max_profit_amount = monthly_pnl\n",
    "            max_profit_date = date\n",
    "        if monthly_pnl < min_profit_amount:\n",
    "            min_profit_amount = monthly_pnl\n",
    "            min_profit_date = date\n",
    "\n",
    "average_pnl = round(total_pnl / total_months, 2)\n",
    "\n",
    "def get_sign(value):\n",
    "    return '-' if value < 0 else ''\n",
    "\n",
    "metrics = f\"\"\"\\\n",
    "    Financial Analysis\n",
    "    ----------------------------\n",
    "    Total Months: {total_months}\n",
    "    Total P&L: ${total_pnl}\n",
    "    Average  Change: {get_sign(average_pnl)}${abs(average_pnl)}\n",
    "    Greatest Increase in Profits: {max_profit_date} (${max_profit_amount})\n",
    "    Greatest Decrease in Profits: {min_profit_date} ({get_sign(min_profit_amount)}${abs(min_profit_amount)})\n",
    "\"\"\"\n",
    "\n",
    "print(metrics)"
   ]
  }
 ],
 "metadata": {
  "interpreter": {
   "hash": "5c3b02fa24688d32a1d09351b7f8eac82a87272ad081601c73caead00a8e1fc4"
  },
  "kernelspec": {
   "display_name": "Python 2.7.18 32-bit (system)",
   "language": "python",
   "name": "python3"
  },
  "language_info": {
   "codemirror_mode": {
    "name": "ipython",
    "version": 3
   },
   "file_extension": ".py",
   "mimetype": "text/x-python",
   "name": "python",
   "nbconvert_exporter": "python",
   "pygments_lexer": "ipython3",
   "version": "3.9.7"
  },
  "orig_nbformat": 4
 },
 "nbformat": 4,
 "nbformat_minor": 2
}
